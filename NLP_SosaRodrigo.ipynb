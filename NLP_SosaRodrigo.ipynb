{
 "cells": [
  {
   "cell_type": "markdown",
   "metadata": {},
   "source": [
    "# ✅ Proyecto Final\n",
    "\n",
    "### Análisis de Datos de Emprendedores en la Provincia de Entre Ríos (2016-2019)\n",
    "\n",
    "### CoderHouse: Data Science III - Data Science III: NLP & Deep Learning aplicado a Ciencia de Datos\n",
    "\n",
    "### Rodrigo Sosa - Cohorte 2024/2025 \n",
    "**LinkedIn**: [https://www.linkedin.com/in/sosarodrigo/](https://www.linkedin.com/in/sosarodrigo/)\n",
    "\n",
    "![Portada](https://github.com/sosarodrigox/coderhouse_emprendedores_it/blob/main/DataBanner2.png?raw=1)\n",
    "\n",
    "DataBanner2.pngDataBanner2.png\n",
    "\n",
    "📚 **Introducción**\n",
    "\n",
    "El dataset utilizado en este análisis proviene de un archivo de Google Sheets asociado al formulario de Google desarrollado para la **Línea de Acción \"Incorporación de Tecnología\"**, un programa implementado por el Ministerio de Desarrollo Social de Entre Ríos entre marzo de 2016 y agosto de 2019. Este formulario recopiló información clave de emprendedores interesados en recibir apoyo financiero para la adquisición de herramientas y equipamiento.\n",
    "\n",
    "✨ **Proyectos Previos**\n",
    "En la etapa Data Science II de la Carrera de Ciencia de Datos, realicé dos proyectos relacionados:\n",
    "\n",
    "1. **EDA y Data Wrangling**:\n",
    "   - Objetivo: Explorar y limpiar los datos para identificar patrones relacionados con las aprobaciones.\n",
    "   - Principales hallazgos: Factores como dedicación semanal, sector productivo y participación en programas de apoyo estaban fuertemente correlacionados con las aprobaciones.\n",
    "\n",
    "2. **Machine Learning**:\n",
    "   - Objetivo: Desarrollar un modelo predictivo para predecir la aprobación de proyectos.\n",
    "   - Principal desafío: Un desbalance significativo en las clases (1,174 aprobados vs. 75 no aprobados), lo que dificultó la correcta identificación de los casos no aprobados.\n",
    "   - Resultados: Aunque se aplicaron técnicas como SMOTE y modelos avanzados como XGBoost, el desbalanceo de datos limitó la capacidad predictiva del modelo para identificar proyectos no aprobados.\n",
    "\n",
    "![Distribución de aprobados y no aprobados](img/aprobados.png)\n",
    "\n",
    "★ **Enfoque del Proyecto Actual**\n",
    "\n",
    "En este proyecto, se propone explorar un enfoque basado en **Procesamiento de Lenguaje Natural (NLP)**, utilizando las observaciones y conclusiones registradas por el equipo técnico en la columna *\"Evaluación Final\"*. Este texto contiene descripciones detalladas que podrían influir en el resultado de aprobación o desaprobación de los emprendedores.\n",
    "\n",
    "✨ **Objetivo Principal**\n",
    "Desarrollar un modelo predictivo que clasifique los proyectos como \"aprobados\" o \"no aprobados\" a partir del análisis de texto en las evaluaciones. Esto se logrará mediante técnicas de NLP para procesar y vectorizar el texto, combinado con algoritmos de clasificación supervisada.\n",
    "\n",
    "✨ **Estrategia Metodológica**\n",
    "\n",
    "1. **Preprocesamiento del Texto:**\n",
    "   - Tokenización, lematización y remoción de *stopwords*.\n",
    "   - Análisis de frecuencia y creación de representaciones vectoriales (TF-IDF).\n",
    "\n",
    "2. **Análisis de Sentimientos:**\n",
    "   - Evaluar la polaridad y el sentimiento general del texto como una característica adicional.\n",
    "\n",
    "3. **Modelo Predictivo:**\n",
    "   - Entrenar un modelo supervisado basado en las representaciones vectoriales del texto y evaluar su desempeño con métricas clave como Recall, F1-score y AUC-ROC.\n",
    "\n",
    "✨ **Relevancia**\n",
    "Este análisis tiene como objetivo aportar una nueva perspectiva al proceso de selección de proyectos, integrando herramientas de NLP para comprender mejor el impacto del lenguaje utilizado en las evaluaciones técnicas. Además, busca superar las limitaciones de los modelos de Machine Learning tradicionales al incorporar información contextual valiosa directamente desde los datos textuales.\n",
    "\n",
    "Como **Técnico en Gestión y Administración Pública (UNER)** y **Técnico en Ciencia de Datos (ISPC)**, mi interés radica en aplicar técnicas avanzadas de ciencia de datos para mejorar la eficiencia de las políticas públicas. Este proyecto representa una oportunidad para explorar nuevos enfoques en la toma de decisiones, optimizando los recursos disponibles y apoyando el desarrollo de los emprendedores locales. 📊"
   ]
  },
  {
   "cell_type": "markdown",
   "metadata": {},
   "source": []
  }
 ],
 "metadata": {
  "kernelspec": {
   "display_name": "venv",
   "language": "python",
   "name": "python3"
  },
  "language_info": {
   "name": "python",
   "version": "3.10.14"
  }
 },
 "nbformat": 4,
 "nbformat_minor": 2
}
